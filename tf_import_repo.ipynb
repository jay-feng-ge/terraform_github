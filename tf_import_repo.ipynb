{
 "cells": [
  {
   "cell_type": "code",
   "execution_count": 1,
   "metadata": {},
   "outputs": [],
   "source": [
    "from github import Github\n",
    "from string import Template"
   ]
  },
  {
   "cell_type": "code",
   "execution_count": 4,
   "metadata": {},
   "outputs": [],
   "source": [
    "g = Github(\"oauth\")\n",
    "org = g.get_organization(\"jay-feng-org\")"
   ]
  },
  {
   "cell_type": "markdown",
   "metadata": {},
   "source": [
    "# Import an Existing Repository\n"
   ]
  },
  {
   "cell_type": "markdown",
   "metadata": {},
   "source": [
    "This is a little more complicated than the other two: when we import a repository, we also need to import and create resource blocks for each of the teams and individual users with access permissions for that repository."
   ]
  },
  {
   "cell_type": "code",
   "execution_count": 5,
   "metadata": {},
   "outputs": [],
   "source": [
    "repo = org.get_repo(\"team_1_test_repo\")"
   ]
  },
  {
   "cell_type": "code",
   "execution_count": 7,
   "metadata": {
    "scrolled": true
   },
   "outputs": [],
   "source": [
    "# good news! terraform has the command `terraform fmt` which automatically formats \n",
    "# the code, so we can write ugly long dictionaries (maps) like this one below\n",
    "\n",
    "\n",
    "\"\"\"\n",
    "Takes in a PyGithub Repository object, returns a string of an HCL map representing the individual\n",
    "user permissions of a repository.\n",
    "\"\"\"\n",
    "def generate_repo_user_permissions(repo):\n",
    "    user_dict = {}\n",
    "    for c in repo.get_collaborators():\n",
    "        if repo.get_collaborator_permission(c) != \"read\":\n",
    "            user_dict[c.login] =  repo.get_collaborator_permission(c)\n",
    "        \n",
    "    user_dict_string = str(user_dict)\n",
    "    user_dict_string = user_dict_string.replace(\"\\'\", \"\\\"\").replace(\":\", \" =\").replace(\",\", \"\\n\")\n",
    "    user_dict_string = user_dict_string.replace(\"{\", \"{\\n \").replace(\"}\", \"\\n}\")\n",
    "    # the below makes indents, which is not necessary with `terraform fmt`\n",
    "    # user_dict_string = user_dict_string.replace(\"\\n \", \"\\n  \")\n",
    "    \n",
    "    return user_dict_string\n",
    "        \n",
    "        \n",
    "#print(generate_repo_user_permissions(repo))"
   ]
  },
  {
   "cell_type": "code",
   "execution_count": 8,
   "metadata": {},
   "outputs": [],
   "source": [
    "\"\"\"\n",
    "Helper function, takes in a PyGithub Permissions object, returns the Terraform permission value.\n",
    "Raises a ValueError if the permission object does not grant any permissions, or if the permission is only 'read'.\n",
    "\"\"\"\n",
    "def get_permission(permissions):\n",
    "    if permissions.triage:\n",
    "        return \"triage\"\n",
    "    elif permissions.push:\n",
    "        return \"push\"\n",
    "    elif permissions.pull:\n",
    "        return \"pull\"\n",
    "    elif permissions.maintain:\n",
    "        return \"maintain\"\n",
    "    elif permissions.admin:\n",
    "        return \"admin\"\n",
    "    else:\n",
    "        raise ValueError('Team does not have any permissions.')"
   ]
  },
  {
   "cell_type": "code",
   "execution_count": 9,
   "metadata": {},
   "outputs": [],
   "source": [
    "\"\"\"\n",
    "Takes in a PyGithub Repository object, returns a string of an HCL map representing the team\n",
    "permissions of a repository.\n",
    "\"\"\"\n",
    "def generate_repo_team_permissions(repo):\n",
    "    team_dict = {}\n",
    "    for t in repo.get_teams():\n",
    "        team_dict[t.name] =  get_permission(t.get_repo_permission(repo))\n",
    "        \n",
    "    team_dict_string = str(team_dict)\n",
    "    team_dict_string = team_dict_string.replace(\"\\'\", \"\\\"\").replace(\":\", \" =\").replace(\",\", \"\\n\")\n",
    "    team_dict_string = team_dict_string.replace(\"{\", \"{\\n \").replace(\"}\", \"\\n}\")\n",
    "    # the below makes indents, which is not necessary with `terraform fmt`\n",
    "    # team_dict_string = team_dict_string.replace(\"\\n \", \"\\n  \")\n",
    "    return team_dict_string\n",
    "        \n",
    "        \n",
    "#print(generate_repo_team_permissions(repo))"
   ]
  },
  {
   "cell_type": "code",
   "execution_count": 10,
   "metadata": {},
   "outputs": [
    {
     "name": "stdout",
     "output_type": "stream",
     "text": [
      "module \"make_team_1_test_repo\" {\n",
      "  source = \"./modules/repo\"\n",
      "\n",
      "  token = var.token\n",
      "\n",
      "  repo_name   = \"team_1_test_repo\"\n",
      "  description = \"null\"\n",
      "  visibility = \"public\"\n",
      "  allow_merge_commit = \"true\"\n",
      "\n",
      "  users = {\n",
      " \"jay-feng-ge\" = \"admin\"\n",
      "}\n",
      "\n",
      "  teams = {\n",
      " \"team_1\" = \"pull\"\n",
      "}\n",
      "}\n"
     ]
    }
   ],
   "source": [
    "\"\"\"\n",
    "Takes in a repository name, returns an string of the HCL repository module configuration.\n",
    "\"\"\"\n",
    "def generate_repo_config(repo_name):\n",
    "    repo = org.get_repo(repo_name)\n",
    " \n",
    "    module_name = \"make_\" + repo_name\n",
    "    description = \"null\" if (repo.description is None) else repo.description\n",
    "    visibility = \"private\" if repo.private else \"public\"\n",
    "    allow_merge_commit = \"true\" if repo.allow_merge_commit else \"false\"\n",
    "    \n",
    "    users = generate_repo_user_permissions(repo)\n",
    "    teams = generate_repo_team_permissions(repo)\n",
    "    \n",
    "    # store the template string in a file and read it in\n",
    "    t = Template('module \"$module_name\" {\\n  source = \"./modules/repo\"\\n\\n  token = var.token\\n\\n  repo_name   = \"$repo_name\"\\n  description = \"$description\"\\n  visibility = \"$visibility\"\\n  allow_merge_commit = \"$allow_merge_commit\"\\n\\n  users = $users\\n\\n  teams = $teams\\n}')\n",
    "    return t.substitute(module_name = module_name,\n",
    "                        repo_name = repo_name,\n",
    "                        description = description,\n",
    "                        visibility = visibility,\n",
    "                        allow_merge_commit = allow_merge_commit,\n",
    "                        users = users,\n",
    "                        teams = teams)\n",
    "\n",
    "                    \n",
    "print(generate_repo_config(\"team_1_test_repo\"))"
   ]
  },
  {
   "cell_type": "markdown",
   "metadata": {},
   "source": [
    "### Directions\n",
    "1. run `terraform fmt` to clean up and add indents\n",
    "2. copy the generated organization membership config block into a .tf file (teams.tf or imported_teams.tf)\n",
    "3. run `terraform init` to make sure the resource names exist in the terraform state\n",
    "4. run `terraform import module.make_team_1_test_repo.github_repository.some_repo team_1_test_repo`"
   ]
  },
  {
   "cell_type": "markdown",
   "metadata": {},
   "source": [
    "### Things to add to repositories\n",
    "- branch protections *\n",
    "- access *\n",
    "- security analysis *\n",
    "- webhooks\n",
    "- notifications\n",
    "- integrations\n",
    "- deploy keys *\n",
    "- actions (ignore for now)\n",
    "- secrets (skip for now) *"
   ]
  },
  {
   "cell_type": "markdown",
   "metadata": {},
   "source": [
    "skel system - templates to automatically configure (ex. gitignore)\n",
    "- ex. set of github actions preconfigured to be copied into new repos created through terraform"
   ]
  },
  {
   "cell_type": "code",
   "execution_count": null,
   "metadata": {},
   "outputs": [],
   "source": []
  }
 ],
 "metadata": {
  "kernelspec": {
   "display_name": "Python 3",
   "language": "python",
   "name": "python3"
  },
  "language_info": {
   "codemirror_mode": {
    "name": "ipython",
    "version": 3
   },
   "file_extension": ".py",
   "mimetype": "text/x-python",
   "name": "python",
   "nbconvert_exporter": "python",
   "pygments_lexer": "ipython3",
   "version": "3.8.3"
  }
 },
 "nbformat": 4,
 "nbformat_minor": 4
}
