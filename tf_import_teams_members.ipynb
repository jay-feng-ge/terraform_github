{
 "cells": [
  {
   "cell_type": "code",
   "execution_count": 25,
   "metadata": {},
   "outputs": [],
   "source": [
    "from github import Github\n",
    "from string import Template"
   ]
  },
  {
   "cell_type": "code",
   "execution_count": 26,
   "metadata": {},
   "outputs": [],
   "source": [
    "g = Github(\"oauth\")\n",
    "org = g.get_organization(\"jay-feng-org\")"
   ]
  },
  {
   "cell_type": "markdown",
   "metadata": {},
   "source": [
    "# Why Terraform For Github?\n",
    "- In a normal workflow if a developer wants to be added to a certain team or repo, they would submit a Jira ticket asking for access. With Terraform (infrastructure as code), a user can simply submit a Github Pull Request with their requested changes through a few lines of code, and a GoExpedi user with the necessary permissions can accept it, immediately, providing faster access.\n",
    "    - Even if this may not be the biggest issue right now since permissions are lax, this change could improve security and help as the organization grows.\n",
    "\n",
    "- Another big benefit of Terraform is that it makes setting up Github repositories quicker, and with less mistakes. To set up a repository or new team, all you need to do is copy a code block and fill out some parameters. We can set up keys, webhooks, etc. in a module so you can create a repository without worrying about all those things - there's already a good set of defaults to work with.\n",
    "\n",
    "- We can make sweeping changes across the org by making a single change to a file (ex. implementing branch protection in all repositories)\n",
    "\n",
    "- Helps with security as well to fulfill insurance requirements.\n",
    "\n",
    "- The ultimate goal is that a developer can just copy something and change a couple of lines, make a Github PR, and then they get a reposotory with good security and best practices.\n"
   ]
  },
  {
   "cell_type": "markdown",
   "metadata": {},
   "source": [
    "# Terraform Import Guide\n",
    "In order to import an existing resource into the Terraform state, we must first create a resource block with a name for that resource. Luckily, this doesn't actually have to be an explicit resource block, and instead can be created using a module.\n",
    "\n",
    "### `terraform import` command\n",
    "https://www.terraform.io/docs/cli/commands/import.html  \n",
    "Usage: `terraform import [options] ADDRESS ID`\n",
    "- `ADDRESS` is the existing resource address of the form\n",
    "    - `resource_type.resource_name`, or \n",
    "    - `module.module_name.resource_type.resource_name`, where the first \"module\" is simply a keyword, \"module_name\" is the name of the module block implementing the module, and \"resource_name\" is the name of the desired resource within the referenced module  \n",
    "- `ID` is the ID of the specific resource you want to map to the provided address, the ID depends on the type of resource being imported\n",
    "\n"
   ]
  },
  {
   "cell_type": "markdown",
   "metadata": {},
   "source": [
    "# Import an Existing Team\n",
    "In order to import an existing team, we need to import the team resource and also all the team membership resources.\n",
    "Order of steps:\n",
    "- Use Github API to get the team IDs, since you can't use Github team names in addresses\n",
    "    - get all the additional metadata as well (team name, description, privacy)\n",
    "- Use Github API to get all the organization members belonging to each team\n",
    "    - get the additonal metadata as well (role)\n",
    "- For each team, use the team module to generate resource configurations\n",
    "\n",
    "\n",
    "One issue is that this Python Github API library does is not able to distinguish members and maintainers of a certain team. However, this should not be a very large issue because\n",
    "1. Terraform would be run using the Github Auth Key of an organization owner, and member vs maintainer makes no difference for owners because they have full permissions anyways\n",
    "2. If these resources are being imported into Terraform, then no one should be manually doing team maintainer actions (ex. adding a member to the team) from github.com anyways\n",
    "3. If we **really** need to give someone the maintainer role, then we can still change that in Terraform by manually creating a github_team_membership resource block"
   ]
  },
  {
   "cell_type": "code",
   "execution_count": 27,
   "metadata": {},
   "outputs": [],
   "source": [
    "def generate_team_config(team_id):\n",
    "    team = org.get_team(team_id)\n",
    "    team_name = team.name\n",
    "    team_description = team.description\n",
    "    team_privacy = team.privacy\n",
    "    \n",
    "    module_name = \"make_\" + team_name\n",
    "    member_usernames = str([member.login for member in team.get_members()]).replace(\"\\'\", \"\\\"\")\n",
    "    t = Template('module \"$module_name\" {\\n  source = \"./modules/team\"\\n\\n  token = var.token\\n  name = \"$team_name\"\\n  privacy = \"$team_privacy\"\\n  description = \"$team_description\"\\n\\n  usernames = $member_usernames\\n}')\n",
    "    return t.substitute(module_name = module_name, team_name = team.name, team_description = team_description, team_privacy = team_privacy, member_usernames = member_usernames)"
   ]
  },
  {
   "cell_type": "code",
   "execution_count": 28,
   "metadata": {
    "scrolled": true
   },
   "outputs": [
    {
     "name": "stdout",
     "output_type": "stream",
     "text": [
      "module \"make_team_2_manual\" {\n",
      "  source = \"./modules/team\"\n",
      "\n",
      "  token = var.token\n",
      "  name = \"team_2_manual\"\n",
      "  privacy = \"secret\"\n",
      "  description = \"terraform import test team\"\n",
      "\n",
      "  usernames = [\"jay-feng\", \"jay-feng-ge\"]\n",
      "}\n"
     ]
    }
   ],
   "source": [
    "print(generate_team_config(4955859))"
   ]
  },
  {
   "cell_type": "markdown",
   "metadata": {},
   "source": [
    "### Directions\n",
    "1. copy the generated team config block into a .tf file (teams.tf or imported_teams.tf)\n",
    "2. run `terraform init` to make sure the resource names exist in the terraform state\n",
    "3. run `terraform import module.make_team_2.github_team.some_team 4955859`\n",
    "\n",
    "No need to import the team members, Terraform will do that automatically. Since a team member resource block would only have the username and role of a member, there is no need to go through the trouble to explicitly create a resource block for that."
   ]
  },
  {
   "cell_type": "code",
   "execution_count": 29,
   "metadata": {},
   "outputs": [],
   "source": [
    "# # probably not needed?\n",
    "\n",
    "# def generate_import_script(team):\n",
    "#     import_team_template = Template(\"terraform import module.team.github_team.some_team $team_id\")\n",
    "#     import_team = import_team_template.substitute(team_id = team.id)\n",
    "    \n",
    "#     team_members = list(team.get_members())\n",
    "#     import_user_template = Template(\"terraform import module.team.github_team_membership.team_member[$i] $team_id:$username_i\")\n",
    "#     sep = \"\\n\"\n",
    "#     print(sep.join([import_user_template.substitute(team_id = team.id, i = i, username_i = team.get_members()[i].login)\n",
    "#                    for i in range(len(team_members))]))\n",
    "    \n",
    "    \n",
    "# print(generate_import_script(team))"
   ]
  },
  {
   "cell_type": "markdown",
   "metadata": {},
   "source": [
    "# Import an Existing Organization Member\n"
   ]
  },
  {
   "cell_type": "code",
   "execution_count": 30,
   "metadata": {},
   "outputs": [],
   "source": [
    "def generate_org_member_config(username):\n",
    "    module_name = \"add_\" + username\n",
    "    member = [member for member in org.get_members() if member.login ==  username][0]\n",
    "    role = member.get_organization_membership(org).role\n",
    "    \n",
    "    t = Template('module \"$module_name\" {\\n  source = \"./modules/organization_member\"\\n\\n  token = var.token\\n\\n  username = \"$username\"\\n  role = \"$role\"\\n}')\n",
    "    return t.substitute(module_name = module_name, username = username, role = role)"
   ]
  },
  {
   "cell_type": "code",
   "execution_count": 31,
   "metadata": {
    "scrolled": true
   },
   "outputs": [
    {
     "name": "stdout",
     "output_type": "stream",
     "text": [
      "module \"add_vinayakgajjewar\" {\n",
      "  source = \"./modules/organization_member\"\n",
      "\n",
      "  token = var.token\n",
      "\n",
      "  username = \"vinayakgajjewar\"\n",
      "  role = \"member\"\n",
      "}\n"
     ]
    }
   ],
   "source": [
    "print(generate_org_member_config(\"vinayakgajjewar\"))"
   ]
  },
  {
   "cell_type": "markdown",
   "metadata": {},
   "source": [
    "### Directions\n",
    "1. copy the generated organization membership config block into a .tf file (teams.tf or imported_teams.tf)\n",
    "2. run `terraform init` to make sure the resource names exist in the terraform state\n",
    "3. run `terraform import module.add_jay-feng-ge.github_membership.membership_for_some_user jay-feng-org:jay-feng-ge`"
   ]
  },
  {
   "cell_type": "markdown",
   "metadata": {},
   "source": [
    "Normal workflow:\n",
    "- dev creates jira ticket, say \"i want this repo with these users having access\"\n",
    "    - most users won't have access to do this themselves\n",
    "    - ***quicker, less mistakes***\n",
    "    - we can set up a set of keys, webhooks, etc. in a module so they don't have to specify it\n",
    "    - most people don't really have permissions - they can create a repo through github.com, set up permissions and webhooks separately \n",
    "    - doesn't fix self servicing (they can do they themselves alr), gives them a good set of defaults\n",
    "        - easier to set up branch protection etc.\n",
    "    - helps with security as well\n",
    "        - fulfill insurance requirements\n",
    "    - GOAL: developer can just copy something and change a couple of lines, make a github PR and they get a repo with good security and best practices"
   ]
  },
  {
   "cell_type": "markdown",
   "metadata": {},
   "source": [
    "Other stuff to potentially try:\n",
    "- https://www.terraform.io/docs/language/modules/testing-experiment.html"
   ]
  },
  {
   "cell_type": "code",
   "execution_count": null,
   "metadata": {},
   "outputs": [],
   "source": []
  }
 ],
 "metadata": {
  "kernelspec": {
   "display_name": "Python 3",
   "language": "python",
   "name": "python3"
  },
  "language_info": {
   "codemirror_mode": {
    "name": "ipython",
    "version": 3
   },
   "file_extension": ".py",
   "mimetype": "text/x-python",
   "name": "python",
   "nbconvert_exporter": "python",
   "pygments_lexer": "ipython3",
   "version": "3.8.3"
  }
 },
 "nbformat": 4,
 "nbformat_minor": 4
}
